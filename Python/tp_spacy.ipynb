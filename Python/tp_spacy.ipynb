{
 "cells": [
  {
   "attachments": {},
   "cell_type": "markdown",
   "metadata": {},
   "source": [
    "# Consignes pour le TP spaCY"
   ]
  },
  {
   "attachments": {},
   "cell_type": "markdown",
   "metadata": {},
   "source": [
    "## Objectifs\n",
    "\n",
    "L'objectif du TP est d'utiliser le [matcher](https://spacy.io/api/matcher) de spaCy pour reconnaître des variantes de syntagmes nominaux dans un texte en français.\n",
    "Pour ce faire, vous pouvez vous aider des notebooks utilisés lors de la séance ainsi que de la [documentation](https://spacy.io/usage/rule-based-matching) en ligne."
   ]
  },
  {
   "attachments": {},
   "cell_type": "markdown",
   "metadata": {},
   "source": [
    "## Prise en main de l'outil\n",
    "\n",
    "Commençons par importer la librairie spaCy ainsi que le module Matcher : "
   ]
  },
  {
   "cell_type": "code",
   "execution_count": null,
   "metadata": {},
   "outputs": [],
   "source": [
    "import spacy\n",
    "from spacy.matcher import Matcher"
   ]
  },
  {
   "attachments": {},
   "cell_type": "markdown",
   "metadata": {},
   "source": [
    "Partons ensuite d'un texte d'exemple en français tiré de [Wikipédia](https://fr.wikipedia.org/wiki/ChatGPT) :"
   ]
  },
  {
   "cell_type": "code",
   "execution_count": null,
   "metadata": {},
   "outputs": [],
   "source": [
    "text = \"\"\"ChatGPT (Chat Generative Pre-trained Transformer) est un prototype d'agent conversationnel utilisant l'intelligence artificielle, développé par OpenAI et spécialisé dans le dialogue.\n",
    "L'agent conversationnel de ChatGPT repose sur le modèle de langage GPT d'OpenAI, et est affiné en continu grâce à l'utilisation de techniques d'apprentissage supervisé et d'apprentissage par renforcement.\n",
    "ChatGPT est capable de générer des réponses à des questions, de compléter des phrases, de traduire des textes, d'écrire des articles et de tenir des conversations avec des humains. Il peut également synthétiser des textes suivant un ensemble de contraintes, telles que le ton, le style et le sujet. Il a été utilisé dans diverses applications, telles que la génération de sous-titres pour des vidéos et la création de chatbots.\n",
    "En raison de ses capacités multiples, le prototype suscite également des inquiétudes. Sont craints des détournements à des fins malveillantes, des risques de plagiat dans le monde académique et de possibles suppressions d'emplois dans certains secteurs. ChatGPT soulève également des préoccupations en matière de sécurité et de confidentialité, car le modèle peut être utilisé pour générer des faux textes et des informations trompeuses.\n",
    "Lancé en novembre 2022 dans une version gratuite et non connectée à Internet, ChatGPT bénéficie d’une large exposition médiatique et reçoit un accueil globalement positif, bien que son exactitude factuelle soit critiquée.\n",
    "En janvier 2023, ChatGPT compte plus de 100 millions de comptes enregistrés.\"\"\""
   ]
  },
  {
   "attachments": {},
   "cell_type": "markdown",
   "metadata": {},
   "source": [
    "Téléchargeons le modèle spaCy pour le français (fr), de petite taille (sm = small) :"
   ]
  },
  {
   "cell_type": "code",
   "execution_count": null,
   "metadata": {},
   "outputs": [],
   "source": [
    "!python -m spacy download fr_core_news_sm"
   ]
  },
  {
   "attachments": {},
   "cell_type": "markdown",
   "metadata": {},
   "source": [
    "Ce modèle peut à présent être chargé en mémoire, et le texte converti en objet spaCy : "
   ]
  },
  {
   "cell_type": "code",
   "execution_count": null,
   "metadata": {},
   "outputs": [],
   "source": [
    "nlp = spacy.load(\"fr_core_news_sm\")\n",
    "doc = nlp(text)"
   ]
  },
  {
   "attachments": {},
   "cell_type": "markdown",
   "metadata": {},
   "source": [
    "Définissons un pattern qui indique que l'on recherche tous les mots dont le Part-of-Speech (POS) est de type \"nom commun\" (NOUN) : "
   ]
  },
  {
   "cell_type": "code",
   "execution_count": null,
   "metadata": {},
   "outputs": [],
   "source": [
    "# un premier pattern très simple\n",
    "pattern1 = [[{\"POS\": \"NOUN\"}]]"
   ]
  },
  {
   "attachments": {},
   "cell_type": "markdown",
   "metadata": {},
   "source": [
    "Regardons ce que spaCy trouve comme matches (noms) dans notre texte : "
   ]
  },
  {
   "cell_type": "code",
   "execution_count": null,
   "metadata": {},
   "outputs": [],
   "source": [
    "def match_pattern(pattern):\n",
    "    \"\"\"Take a pattern as input and return matches\"\"\"\n",
    "    matcher = Matcher(nlp.vocab)\n",
    "    matcher.add(\"\", pattern)\n",
    "    matches = matcher(doc)\n",
    "    for _, start, end in matches:\n",
    "        span = doc[start:end]\n",
    "        print(span.text)\n",
    "\n",
    "match_pattern(pattern1)"
   ]
  },
  {
   "attachments": {},
   "cell_type": "markdown",
   "metadata": {},
   "source": [
    "spaCy trouve une soixantaine de noms, dont quelques faux positifs.\n",
    "\n",
    "Essayons à présent un pattern légèrement plus complexe : "
   ]
  },
  {
   "cell_type": "code",
   "execution_count": null,
   "metadata": {},
   "outputs": [],
   "source": [
    "pattern2 = [[\n",
    "            {\"POS\": \"DET\"}, \n",
    "            {\"POS\": \"NOUN\"},\n",
    "            {\"POS\": \"ADJ\"}\n",
    "           ]]\n",
    "\n",
    "match_pattern(pattern2)"
   ]
  },
  {
   "attachments": {},
   "cell_type": "markdown",
   "metadata": {},
   "source": [
    "Il est possible de rendre certains éléments optionnels ou de les répéter avec les opérateurs ? (0 ou 1), * (0 ou plus) et + (1 ou plus) ainsi que {1} (exactement 1) etc."
   ]
  },
  {
   "cell_type": "code",
   "execution_count": null,
   "metadata": {},
   "outputs": [],
   "source": [
    "pattern3 = [[\n",
    "            {\"POS\": \"DET\", \"OP\": \"?\"}, \n",
    "            {\"POS\": \"NOUN\", \"OP\": \"{1}\"},\n",
    "            {\"POS\": \"ADJ\", \"OP\": \"+\"}\n",
    "           ]]\n",
    "\n",
    "match_pattern(pattern3)"
   ]
  },
  {
   "attachments": {},
   "cell_type": "markdown",
   "metadata": {},
   "source": [
    "Vous remarquerez que le SN est matché avec ET sans déterminant ce qui crée de la redondance, mais cela permet en même temps de trouver des matches supplémentaires comme \"informations trompeuses\".\n",
    "\n",
    "Il est également possible de fournir une liste de patterns : "
   ]
  },
  {
   "cell_type": "code",
   "execution_count": null,
   "metadata": {},
   "outputs": [],
   "source": [
    "patterns = [\n",
    "    [{\"POS\": \"NOUN\"}, {\"POS\": \"ADJ\"}],\n",
    "    [{\"POS\": \"ADJ\"}, {\"POS\": \"NOUN\"}],\n",
    "    [{\"POS\": \"PROPN\"}]\n",
    "]\n",
    "\n",
    "match_pattern(patterns)"
   ]
  },
  {
   "attachments": {},
   "cell_type": "markdown",
   "metadata": {},
   "source": [
    "Ceci permet d'inclure également les adjectifs placés avant le nom, ainsi que les noms propres.\n",
    "\n",
    "## Travail à remettre\n",
    "\n",
    "Enrichissez la liste de patterns pour couvrir un maximum de syntagmes nominaux valides, tout en excluant les autres constructions syntaxiques. Il faut donc trouver un équilibre en bruit et silence pour minimiser à la fois les faux négatifs (syntagmes valides mais non reconnus par le matcher) et les faux positifs (matches reconnus par erreur qui viennent \"polluer\" la liste des résultats).\n",
    "\n",
    "Vous pouvez travailler directement dans la copie du notebook enregistrée sur votre Google Drive, ou bien dans un fichier local. N'hésitez pas à modifier le texte de départ pour varier les constructions possibles, et à expérimenter avec les modèles `fr_core_news_md` (medium) et `fr_core_news_lg` (large) pour voir si cela améliore les résultats.\n",
    "\n",
    "Quand vous avez terminé, exportez la liste de patterns au format JSON grâce à la cellule ci-dessous. Rédigez ensuite un court rapport (1-2 pages maximum) en PDF pour expliquer le contexte du TP, votre démarche ainsi que les choix effectués.\n",
    "\n",
    "Les deux fichiers sont à remettre sur l'UV pour le **mardi 23 mai** au plus tard. Vous serez évalués sur l'efficacité de vos patterns (rappel et précision), mais aussi sur votre réflexion."
   ]
  },
  {
   "cell_type": "code",
   "execution_count": null,
   "metadata": {},
   "outputs": [],
   "source": [
    "from google.colab import files\n",
    "import json\n",
    "\n",
    "json_dump = json.dumps(patterns)\n",
    "with open('tp_spacy.json', 'w') as f:\n",
    "  f.write(json_dump)\n",
    "\n",
    "files.download('tp_spacy.json')"
   ]
  }
 ],
 "metadata": {
  "kernelspec": {
   "display_name": "venv",
   "language": "python",
   "name": "python3"
  },
  "language_info": {
   "codemirror_mode": {
    "name": "ipython",
    "version": 3
   },
   "file_extension": ".py",
   "mimetype": "text/x-python",
   "name": "python",
   "nbconvert_exporter": "python",
   "pygments_lexer": "ipython3",
   "version": "3.10.10"
  },
  "orig_nbformat": 4
 },
 "nbformat": 4,
 "nbformat_minor": 2
}
